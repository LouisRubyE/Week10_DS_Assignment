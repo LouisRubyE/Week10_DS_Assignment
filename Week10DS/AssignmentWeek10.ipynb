{
 "cells": [
  {
   "cell_type": "code",
   "execution_count": 3,
   "metadata": {},
   "outputs": [],
   "source": [
    "import pandas as pd\n",
    "from math import sqrt\n",
    "import numpy as np"
   ]
  },
  {
   "cell_type": "code",
   "execution_count": 4,
   "metadata": {},
   "outputs": [
    {
     "name": "stdout",
     "output_type": "stream",
     "text": [
      "<class 'pandas.core.frame.DataFrame'>\n",
      "RangeIndex: 9742 entries, 0 to 9741\n",
      "Data columns (total 3 columns):\n",
      " #   Column   Non-Null Count  Dtype \n",
      "---  ------   --------------  ----- \n",
      " 0   movieId  9742 non-null   int64 \n",
      " 1   title    9742 non-null   object\n",
      " 2   genres   9742 non-null   object\n",
      "dtypes: int64(1), object(2)\n",
      "memory usage: 228.5+ KB\n",
      "None\n"
     ]
    }
   ],
   "source": [
    "movies_df = pd.read_csv('movies.csv')\n",
    "ratings_df = pd.read_csv('ratings.csv')\n",
    "print(movies_df.info())"
   ]
  },
  {
   "cell_type": "code",
   "execution_count": 5,
   "metadata": {},
   "outputs": [
    {
     "name": "stdout",
     "output_type": "stream",
     "text": [
      "                          title  rating\n",
      "0             Pocahontas (1995)     5.0\n",
      "1          Mortal Kombat (1995)     1.0\n",
      "2  Home for the Holidays (1995)     1.0\n",
      "3         Eye for an Eye (1996)     5.0\n",
      "4             To Die For (1995)     4.5\n"
     ]
    }
   ],
   "source": [
    "userInput = [{'title':'Pocahontas (1995)', 'rating':5},\n",
    "             {'title':'Mortal Kombat (1995)', 'rating':1},\n",
    "             {'title':'Home for the Holidays (1995)', 'rating':1},\n",
    "             {'title':'Eye for an Eye (1996)', 'rating':5},\n",
    "             {'title':'To Die For (1995)', 'rating':4.5}]\n",
    "inputMovies = pd.DataFrame(userInput)\n",
    "print(inputMovies)"
   ]
  },
  {
   "cell_type": "code",
   "execution_count": 6,
   "metadata": {},
   "outputs": [
    {
     "name": "stdout",
     "output_type": "stream",
     "text": [
      "   movieId                         title  rating\n",
      "0       44          Mortal Kombat (1995)     1.0\n",
      "1       45             To Die For (1995)     4.5\n",
      "2       48             Pocahontas (1995)     5.0\n",
      "3       57  Home for the Holidays (1995)     1.0\n",
      "4       61         Eye for an Eye (1996)     5.0\n"
     ]
    }
   ],
   "source": [
    "inputId = movies_df[movies_df['title'].isin(inputMovies['title'].tolist())]\n",
    "inputMovies = pd.merge(inputId, inputMovies)\n",
    "inputMovies = inputMovies[['movieId','title','rating']]\n",
    "print(inputMovies)"
   ]
  },
  {
   "cell_type": "code",
   "execution_count": 7,
   "metadata": {},
   "outputs": [
    {
     "name": "stdout",
     "output_type": "stream",
     "text": [
      "         userId  rating  timestamp\n",
      "movieId                           \n",
      "44           46      46         46\n",
      "45           32      32         32\n",
      "48           68      68         68\n",
      "57            8       8          8\n",
      "61            6       6          6\n"
     ]
    }
   ],
   "source": [
    "userSubset = ratings_df[ratings_df['movieId'].isin(inputMovies['movieId'].tolist())]\n",
    "print(userSubset.groupby('movieId').count())"
   ]
  },
  {
   "cell_type": "code",
   "execution_count": 8,
   "metadata": {},
   "outputs": [
    {
     "name": "stdout",
     "output_type": "stream",
     "text": [
      "[(414,        userId  movieId  rating  timestamp\n",
      "62319     414       44     2.0  961516249\n",
      "62320     414       45     3.0  961438476\n",
      "62323     414       48     3.0  961437741\n",
      "62327     414       57     3.0  961517912), (599,        userId  movieId  rating   timestamp\n",
      "92649     599       44     2.5  1498517161\n",
      "92650     599       45     2.5  1498516640\n",
      "92654     599       57     2.5  1519240604\n",
      "92656     599       61     2.5  1519327817), (6,      userId  movieId  rating  timestamp\n",
      "586       6       45     3.0  845553907\n",
      "592       6       61     4.0  845555454), (19,       userId  movieId  rating  timestamp\n",
      "2285      19       44     3.0  965710019\n",
      "2287      19       48     1.0  965709172), (21,       userId  movieId  rating   timestamp\n",
      "3224      21       44     1.0  1376822969\n",
      "3225      21       48     3.0  1376822924)]\n"
     ]
    }
   ],
   "source": [
    "#Groupby creates several sub dataframes where they all have the same value in the column specified as the parameter\n",
    "userSubsetGroup = userSubset.groupby(['userId'])\n",
    "\n",
    "def take_5_elem(x):\n",
    "    # print (len(x[1]))\n",
    "    return len(x[1])\n",
    "    \n",
    "\n",
    "#Sorting it so users with movie most in common with the input will have priority\n",
    "userSubsetGroup = sorted(userSubsetGroup, key=take_5_elem, reverse=True)\n",
    "\n",
    "userSubsetGroup = userSubsetGroup[0:100]\n",
    "print(userSubsetGroup[0:5])"
   ]
  },
  {
   "cell_type": "code",
   "execution_count": 9,
   "metadata": {},
   "outputs": [],
   "source": [
    "#Store the Pearson Correlation in a dictionary, where the key is the user Id and the value is the coefficient\n",
    "pearsonCorrelationDict = {}\n",
    "\n",
    "#For every user group in our subset\n",
    "for name, group in userSubsetGroup:\n",
    "\n",
    "    #Let's start by sorting the input and current user group so the values aren't mixed up later on\n",
    "    group = group.sort_values(by='movieId')\n",
    "    inputMovies = inputMovies.sort_values(by='movieId')\n",
    "\n",
    "    #Get the N for the formula\n",
    "    nRatings = len(group)\n",
    "\n",
    "    #Get the review scores for the movies that they both have in common\n",
    "    temp_df = inputMovies[inputMovies['movieId'].isin(group['movieId'].tolist())]\n",
    "\n",
    "    #And then store them in a temporary buffer variable in a list format to facilitate future calculations\n",
    "    tempRatingList = temp_df['rating'].tolist()\n",
    "   \n",
    "    #Let's also put the current user group reviews in a list format\n",
    "    tempGroupList = group['rating'].tolist()\n",
    "   \n",
    "    \n",
    "    #Now let's calculate the pearson correlation between two users, so called, x and y manually (check the formula from week 7 slide)\n",
    "    Sxx = sum([i**2 for i in tempRatingList]) - pow(sum(tempRatingList),2)/float(nRatings)\n",
    "    Syy = sum([i**2 for i in tempGroupList]) - pow(sum(tempGroupList),2)/float(nRatings)\n",
    "    Sxy = sum( i*j for i, j in zip(tempRatingList, tempGroupList)) - sum(tempRatingList)*sum(tempGroupList)/float(nRatings)\n",
    "\n",
    "    #If the denominator is different than zero, then divide, else, 0 correlation.\n",
    "    if Sxx != 0 and Syy != 0:\n",
    "        pearsonCorrelationDict[name] = Sxy/sqrt(Sxx*Syy)\n",
    "    else:\n",
    "        pearsonCorrelationDict[name] = 0"
   ]
  },
  {
   "cell_type": "code",
   "execution_count": 10,
   "metadata": {},
   "outputs": [
    {
     "name": "stdout",
     "output_type": "stream",
     "text": [
      "   similarityIndex  userId\n",
      "0         0.574801     414\n",
      "1         0.000000     599\n",
      "2         1.000000       6\n",
      "3        -1.000000      19\n",
      "4         1.000000      21\n"
     ]
    }
   ],
   "source": [
    "pearsonDF = pd.DataFrame.from_dict(pearsonCorrelationDict, orient='index')\n",
    "pearsonDF.columns = ['similarityIndex']\n",
    "pearsonDF['userId'] = pearsonDF.index\n",
    "pearsonDF.index = range(len(pearsonDF))\n",
    "print(pearsonDF.head())"
   ]
  },
  {
   "cell_type": "code",
   "execution_count": 11,
   "metadata": {},
   "outputs": [
    {
     "name": "stdout",
     "output_type": "stream",
     "text": [
      "    similarityIndex  userId\n",
      "29              1.0     476\n",
      "23              1.0     386\n",
      "2               1.0       6\n",
      "32              1.0     603\n",
      "4               1.0      21\n"
     ]
    }
   ],
   "source": [
    "topUsers=pearsonDF.sort_values(by='similarityIndex', ascending=False)[0:50]\n",
    "print(topUsers.head())"
   ]
  },
  {
   "cell_type": "code",
   "execution_count": 12,
   "metadata": {},
   "outputs": [
    {
     "name": "stdout",
     "output_type": "stream",
     "text": [
      "    similarityIndex  userId  movieId  rating  timestamp\n",
      "0               1.0     476        1     4.0  835021447\n",
      "1               1.0     476        2     4.0  835021693\n",
      "2               1.0     476       10     3.0  835021420\n",
      "3               1.0     476       11     3.0  835021635\n",
      "4               1.0     476       13     3.0  835022487\n",
      "..              ...     ...      ...     ...        ...\n",
      "95              1.0     386      204     1.0  842613737\n",
      "96              1.0     386      208     2.0  842610246\n",
      "97              1.0     386      223     3.0  842613794\n",
      "98              1.0     386      288     1.0  842610269\n",
      "99              1.0     386      292     1.0  842610228\n",
      "\n",
      "[100 rows x 5 columns]\n"
     ]
    }
   ],
   "source": [
    "topUsersRating=topUsers.merge(ratings_df, left_on='userId', right_on='userId', how='inner')\n",
    "print(topUsersRating.head(100))"
   ]
  },
  {
   "cell_type": "code",
   "execution_count": 13,
   "metadata": {},
   "outputs": [
    {
     "name": "stdout",
     "output_type": "stream",
     "text": [
      "   similarityIndex  userId  movieId  rating  timestamp  weightedRating\n",
      "0              1.0     476        1     4.0  835021447             4.0\n",
      "1              1.0     476        2     4.0  835021693             4.0\n",
      "2              1.0     476       10     3.0  835021420             3.0\n",
      "3              1.0     476       11     3.0  835021635             3.0\n",
      "4              1.0     476       13     3.0  835022487             3.0\n"
     ]
    }
   ],
   "source": [
    "#Multiplies the similarity by the user’s ratings\n",
    "topUsersRating['weightedRating'] = topUsersRating['similarityIndex']*topUsersRating['rating']\n",
    "print(topUsersRating.head())"
   ]
  },
  {
   "cell_type": "code",
   "execution_count": 14,
   "metadata": {},
   "outputs": [
    {
     "name": "stdout",
     "output_type": "stream",
     "text": [
      "         sum_similarityIndex  sum_weightedRating\n",
      "movieId                                         \n",
      "1                   9.574801           35.299205\n",
      "2                   6.574801           21.724404\n",
      "3                   4.574801           15.299205\n",
      "4                   2.000000            6.000000\n",
      "5                   7.574801           22.649602\n"
     ]
    }
   ],
   "source": [
    "#Applies a sum to the topUsers after grouping it up by movieId\n",
    "tempTopUsersRating = topUsersRating.groupby('movieId').sum()[['similarityIndex','weightedRating']]\n",
    "tempTopUsersRating.columns = ['sum_similarityIndex','sum_weightedRating']\n",
    "print(tempTopUsersRating.head())"
   ]
  },
  {
   "cell_type": "code",
   "execution_count": 15,
   "metadata": {},
   "outputs": [
    {
     "name": "stdout",
     "output_type": "stream",
     "text": [
      "         weighted average recommendation score  movieId\n",
      "movieId                                                \n",
      "1                                     3.686678        1\n",
      "2                                     3.304192        2\n",
      "3                                     3.344234        3\n",
      "4                                     3.000000        4\n",
      "5                                     2.990125        5\n",
      "6                                     3.520104        6\n",
      "7                                     3.396050        7\n",
      "8                                     3.000000        8\n",
      "9                                          NaN        9\n",
      "10                                    3.215986       10\n"
     ]
    }
   ],
   "source": [
    "#Creates an empty dataframe\n",
    "recommendation_df = pd.DataFrame()\n",
    "\n",
    "#Now we take the weighted average\n",
    "recommendation_df['weighted average recommendation score'] = tempTopUsersRating['sum_weightedRating']/tempTopUsersRating['sum_similarityIndex']\n",
    "recommendation_df['movieId'] = tempTopUsersRating.index\n",
    "print(recommendation_df.head(10))"
   ]
  },
  {
   "cell_type": "code",
   "execution_count": 16,
   "metadata": {},
   "outputs": [
    {
     "name": "stdout",
     "output_type": "stream",
     "text": [
      "         weighted average recommendation score  movieId\n",
      "movieId                                                \n",
      "43376                                      5.0    43376\n",
      "495                                        5.0      495\n",
      "2843                                       5.0     2843\n",
      "6791                                       5.0     6791\n",
      "3473                                       5.0     3473\n",
      "...                                        ...      ...\n",
      "185435                                     NaN   185435\n",
      "187593                                     NaN   187593\n",
      "188675                                     NaN   188675\n",
      "188833                                     NaN   188833\n",
      "189381                                     NaN   189381\n",
      "\n",
      "[5886 rows x 2 columns]\n"
     ]
    }
   ],
   "source": [
    "recommendation_df = recommendation_df.sort_values(by='weighted average recommendation score', ascending=False)\n",
    "print(recommendation_df)"
   ]
  },
  {
   "cell_type": "code",
   "execution_count": 17,
   "metadata": {},
   "outputs": [
    {
     "name": "stdout",
     "output_type": "stream",
     "text": [
      "      movieId                                  title  \\\n",
      "0           1                       Toy Story (1995)   \n",
      "1           2                         Jumanji (1995)   \n",
      "2           3                Grumpier Old Men (1995)   \n",
      "3           4               Waiting to Exhale (1995)   \n",
      "4           5     Father of the Bride Part II (1995)   \n",
      "...       ...                                    ...   \n",
      "9709   187593                      Deadpool 2 (2018)   \n",
      "9710   187595         Solo: A Star Wars Story (2018)   \n",
      "9714   188675                          Dogman (2018)   \n",
      "9717   188833  The Man Who Killed Don Quixote (2018)   \n",
      "9721   189381                        SuperFly (2018)   \n",
      "\n",
      "                                           genres  \n",
      "0     Adventure|Animation|Children|Comedy|Fantasy  \n",
      "1                      Adventure|Children|Fantasy  \n",
      "2                                  Comedy|Romance  \n",
      "3                            Comedy|Drama|Romance  \n",
      "4                                          Comedy  \n",
      "...                                           ...  \n",
      "9709                         Action|Comedy|Sci-Fi  \n",
      "9710             Action|Adventure|Children|Sci-Fi  \n",
      "9714                                  Crime|Drama  \n",
      "9717                     Adventure|Comedy|Fantasy  \n",
      "9721                        Action|Crime|Thriller  \n",
      "\n",
      "[5881 rows x 3 columns]\n"
     ]
    }
   ],
   "source": [
    "recommended_movie=movies_df.loc[movies_df['movieId'].isin(recommendation_df['movieId'])]\n",
    "\n",
    "#we don't want to recommend the same movie\n",
    "recommended_movie=recommended_movie.loc[~recommended_movie.movieId.isin(userSubset['movieId'])]\n",
    "\n",
    "print(recommended_movie)"
   ]
  }
 ],
 "metadata": {
  "kernelspec": {
   "display_name": "base",
   "language": "python",
   "name": "python3"
  },
  "language_info": {
   "codemirror_mode": {
    "name": "ipython",
    "version": 3
   },
   "file_extension": ".py",
   "mimetype": "text/x-python",
   "name": "python",
   "nbconvert_exporter": "python",
   "pygments_lexer": "ipython3",
   "version": "3.9.12"
  }
 },
 "nbformat": 4,
 "nbformat_minor": 2
}
